{
 "cells": [
  {
   "cell_type": "code",
   "execution_count": 1,
   "id": "f899925a",
   "metadata": {},
   "outputs": [],
   "source": [
    "import pandas as pd\n",
    "from sklearn.metrics import r2_score \n",
    "from sklearn.model_selection import train_test_split\n",
    "import matplotlib.pyplot as plt\n",
    "from sklearn.preprocessing import StandardScaler\n",
    "from sklearn.ensemble import RandomForestRegressor\n",
    "from sklearn.linear_model import Lasso"
   ]
  },
  {
   "cell_type": "code",
   "execution_count": 2,
   "id": "1d4617b3",
   "metadata": {},
   "outputs": [],
   "source": [
    "step1=pd.read_csv('Final2/step1.csv')\n",
    "step2=pd.read_csv('Final2/step2.csv')\n",
    "step3=pd.read_csv('Final2/step3.csv')\n",
    "step4=pd.read_csv('Final2/step4.csv')\n",
    "step5=pd.read_csv('Final2/step5.csv')\n",
    "step6=pd.read_csv('Final2/step6.csv')\n",
    "release=pd.read_csv('Final2/release.csv')"
   ]
  },
  {
   "cell_type": "code",
   "execution_count": 3,
   "id": "e3e01edf",
   "metadata": {},
   "outputs": [],
   "source": [
    "x1=step1.iloc[:,:10].values\n",
    "y1=step1['distance'].values"
   ]
  },
  {
   "cell_type": "code",
   "execution_count": 4,
   "id": "433ada7e",
   "metadata": {},
   "outputs": [],
   "source": [
    "x2=step2.iloc[:,:10].values\n",
    "y2=step2['distance'].values"
   ]
  },
  {
   "cell_type": "code",
   "execution_count": 5,
   "id": "d3c82050",
   "metadata": {},
   "outputs": [],
   "source": [
    "x3=step3.iloc[:,:10].values\n",
    "y3=step3['distance'].values"
   ]
  },
  {
   "cell_type": "code",
   "execution_count": 6,
   "id": "15c62047",
   "metadata": {},
   "outputs": [],
   "source": [
    "x4=step4.iloc[:,:10].values\n",
    "y4=step4['distance'].values"
   ]
  },
  {
   "cell_type": "code",
   "execution_count": 7,
   "id": "1e3b7f36",
   "metadata": {},
   "outputs": [],
   "source": [
    "x5=step5.iloc[:,:10].values\n",
    "y5=step5['distance'].values"
   ]
  },
  {
   "cell_type": "code",
   "execution_count": 8,
   "id": "39b0b441",
   "metadata": {},
   "outputs": [],
   "source": [
    "x6=step6.iloc[:,:10].values\n",
    "y6=step6['distance'].values"
   ]
  },
  {
   "cell_type": "code",
   "execution_count": 9,
   "id": "7b213dcb",
   "metadata": {},
   "outputs": [],
   "source": [
    "xr=release.iloc[:,:10].values\n",
    "yr=release['distance'].values"
   ]
  },
  {
   "cell_type": "code",
   "execution_count": 10,
   "id": "0bceffd5",
   "metadata": {},
   "outputs": [],
   "source": [
    "x1_train,x1_test,y1_train, y1_test=train_test_split(x1,y1,test_size=0.2, random_state=42)\n",
    "x2_train,x2_test,y2_train, y2_test=train_test_split(x2,y2,test_size=0.2, random_state=42)\n",
    "x3_train,x3_test,y3_train, y3_test=train_test_split(x3,y3,test_size=0.2, random_state=42)\n",
    "x4_train,x4_test,y4_train, y4_test=train_test_split(x4,y4,test_size=0.2, random_state=42)\n",
    "x5_train,x5_test,y5_train, y5_test=train_test_split(x5,y5,test_size=0.2, random_state=42)\n",
    "x6_train,x6_test,y6_train, y6_test=train_test_split(x6,y6,test_size=0.2, random_state=42)\n",
    "xr_train,xr_test,yr_train, yr_test=train_test_split(xr,yr,test_size=0.2, random_state=42)"
   ]
  },
  {
   "cell_type": "code",
   "execution_count": 11,
   "id": "2916f91e",
   "metadata": {},
   "outputs": [
    {
     "data": {
      "text/plain": [
       "0.860368523958338"
      ]
     },
     "execution_count": 11,
     "metadata": {},
     "output_type": "execute_result"
    }
   ],
   "source": [
    "step1_model=RandomForestRegressor()\n",
    "step1_model.fit(x1,y1)\n",
    "r2_score(y1_test,step1_model.predict(x1_test))"
   ]
  },
  {
   "cell_type": "code",
   "execution_count": 12,
   "id": "33cbc5a6",
   "metadata": {},
   "outputs": [
    {
     "data": {
      "text/plain": [
       "0.737644588913978"
      ]
     },
     "execution_count": 12,
     "metadata": {},
     "output_type": "execute_result"
    }
   ],
   "source": [
    "step2_model=RandomForestRegressor()\n",
    "step2_model.fit(x2,y2)\n",
    "r2_score(y2_test,step2_model.predict(x2_test))"
   ]
  },
  {
   "cell_type": "code",
   "execution_count": 13,
   "id": "524d8aaf",
   "metadata": {},
   "outputs": [
    {
     "data": {
      "text/plain": [
       "0.7881649837587572"
      ]
     },
     "execution_count": 13,
     "metadata": {},
     "output_type": "execute_result"
    }
   ],
   "source": [
    "step3_model=RandomForestRegressor()\n",
    "step3_model.fit(x3,y3)\n",
    "r2_score(y3_test,step3_model.predict(x3_test))"
   ]
  },
  {
   "cell_type": "code",
   "execution_count": 14,
   "id": "02cbc81f",
   "metadata": {},
   "outputs": [
    {
     "data": {
      "text/plain": [
       "0.764739561408535"
      ]
     },
     "execution_count": 14,
     "metadata": {},
     "output_type": "execute_result"
    }
   ],
   "source": [
    "step4_model=RandomForestRegressor()\n",
    "step4_model.fit(x4,y4)\n",
    "r2_score(y4_test,step4_model.predict(x4_test))"
   ]
  },
  {
   "cell_type": "code",
   "execution_count": 15,
   "id": "6f752089",
   "metadata": {},
   "outputs": [
    {
     "data": {
      "text/plain": [
       "0.676352220697527"
      ]
     },
     "execution_count": 15,
     "metadata": {},
     "output_type": "execute_result"
    }
   ],
   "source": [
    "step5_model=RandomForestRegressor()\n",
    "step5_model.fit(x5,y5)\n",
    "r2_score(y5_test,step5_model.predict(x5_test))"
   ]
  },
  {
   "cell_type": "code",
   "execution_count": 16,
   "id": "436e4b7e",
   "metadata": {
    "scrolled": true
   },
   "outputs": [
    {
     "data": {
      "text/plain": [
       "0.6520105734084485"
      ]
     },
     "execution_count": 16,
     "metadata": {},
     "output_type": "execute_result"
    }
   ],
   "source": [
    "step6_model=RandomForestRegressor()\n",
    "step6_model.fit(x6,y6)\n",
    "r2_score(y6_test,step6_model.predict(x6_test))"
   ]
  },
  {
   "cell_type": "markdown",
   "id": "3fd85707",
   "metadata": {},
   "source": [
    "# Release Step: Lasso Model"
   ]
  },
  {
   "cell_type": "code",
   "execution_count": 17,
   "id": "229f5851",
   "metadata": {},
   "outputs": [
    {
     "data": {
      "text/plain": [
       "0.73459783052922"
      ]
     },
     "execution_count": 17,
     "metadata": {},
     "output_type": "execute_result"
    }
   ],
   "source": [
    "stepr_model=Lasso(alpha=0.0005)\n",
    "stepr_model.fit(xr,yr)\n",
    "r2_score(yr_test, stepr_model.predict(xr_test))"
   ]
  },
  {
   "cell_type": "markdown",
   "id": "bd1b074d",
   "metadata": {},
   "source": [
    "# Inference"
   ]
  },
  {
   "cell_type": "code",
   "execution_count": 18,
   "id": "8c2b9682",
   "metadata": {},
   "outputs": [
    {
     "data": {
      "text/plain": [
       "array([92.4892])"
      ]
     },
     "execution_count": 18,
     "metadata": {},
     "output_type": "execute_result"
    }
   ],
   "source": [
    "step1_model.predict([[115,90,172,161,159,169,151,69,1.85,95]])\n"
   ]
  },
  {
   "cell_type": "code",
   "execution_count": 19,
   "id": "d47185ec",
   "metadata": {},
   "outputs": [
    {
     "data": {
      "text/plain": [
       "array([84.4338])"
      ]
     },
     "execution_count": 19,
     "metadata": {},
     "output_type": "execute_result"
    }
   ],
   "source": [
    "step2_model.predict([[90,97,127,132,162,138,169,101,1.9,95]])"
   ]
  },
  {
   "cell_type": "code",
   "execution_count": 20,
   "id": "9520b327",
   "metadata": {},
   "outputs": [
    {
     "data": {
      "text/plain": [
       "array([92.5126])"
      ]
     },
     "execution_count": 20,
     "metadata": {},
     "output_type": "execute_result"
    }
   ],
   "source": [
    "step3_model.predict([[116,112,152,134,132,159,153,61,1.9,95]])"
   ]
  },
  {
   "cell_type": "code",
   "execution_count": 335,
   "id": "23c35897",
   "metadata": {},
   "outputs": [
    {
     "data": {
      "text/plain": [
       "array([91.1729])"
      ]
     },
     "execution_count": 335,
     "metadata": {},
     "output_type": "execute_result"
    }
   ],
   "source": [
    "step4_model.predict([[103,114,161,149,175,154,159,104,1.9,96]])"
   ]
  },
  {
   "cell_type": "code",
   "execution_count": 144,
   "id": "6e48aa44",
   "metadata": {},
   "outputs": [
    {
     "data": {
      "text/plain": [
       "array([91.9124])"
      ]
     },
     "execution_count": 144,
     "metadata": {},
     "output_type": "execute_result"
    }
   ],
   "source": [
    "step5_model.predict([[97,99,147,165,150,151,146,72,1.9,96]])"
   ]
  },
  {
   "cell_type": "code",
   "execution_count": 203,
   "id": "3385cb11",
   "metadata": {},
   "outputs": [
    {
     "data": {
      "text/plain": [
       "array([91.0501])"
      ]
     },
     "execution_count": 203,
     "metadata": {},
     "output_type": "execute_result"
    }
   ],
   "source": [
    "step6_model.predict([[77,92,169,172,168,164,152,87,1.8,86]])"
   ]
  },
  {
   "cell_type": "code",
   "execution_count": 424,
   "id": "b7de28d8",
   "metadata": {},
   "outputs": [
    {
     "data": {
      "text/plain": [
       "array([84.4657])"
      ]
     },
     "execution_count": 424,
     "metadata": {},
     "output_type": "execute_result"
    }
   ],
   "source": [
    "step6_model.predict([[91,121,163,160,149,169,139,82,1.8,86]])"
   ]
  },
  {
   "cell_type": "code",
   "execution_count": 608,
   "id": "fa595bce",
   "metadata": {},
   "outputs": [
    {
     "data": {
      "text/plain": [
       "array([85.30901092])"
      ]
     },
     "execution_count": 608,
     "metadata": {},
     "output_type": "execute_result"
    }
   ],
   "source": [
    "stepr_model.predict([[74,121,139,163,166,168,159,170,1.9,96]])"
   ]
  },
  {
   "cell_type": "markdown",
   "id": "4c66a431",
   "metadata": {},
   "source": [
    "### "
   ]
  },
  {
   "cell_type": "code",
   "execution_count": null,
   "id": "6fa6a268",
   "metadata": {},
   "outputs": [],
   "source": []
  }
 ],
 "metadata": {
  "kernelspec": {
   "display_name": "Python 3 (ipykernel)",
   "language": "python",
   "name": "python3"
  },
  "language_info": {
   "codemirror_mode": {
    "name": "ipython",
    "version": 3
   },
   "file_extension": ".py",
   "mimetype": "text/x-python",
   "name": "python",
   "nbconvert_exporter": "python",
   "pygments_lexer": "ipython3",
   "version": "3.9.7"
  }
 },
 "nbformat": 4,
 "nbformat_minor": 5
}
